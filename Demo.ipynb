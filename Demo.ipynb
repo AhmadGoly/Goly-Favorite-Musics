{
 "cells": [
  {
   "cell_type": "code",
   "execution_count": 6,
   "metadata": {},
   "outputs": [],
   "source": [
    "from fetcher.musicbrainz_fetcher import MusicBrainzFetcher"
   ]
  },
  {
   "cell_type": "code",
   "execution_count": 7,
   "metadata": {},
   "outputs": [
    {
     "name": "stderr",
     "output_type": "stream",
     "text": [
      "INFO:MusicBrainzFetcher:Starting fetch for artist: I prevail\n",
      "INFO:MusicBrainzFetcher:Searching artist: I prevail\n",
      "INFO:MusicBrainzFetcher:MBID: 1921c28c-ec61-4725-8e35-38dd656f7923\n",
      "INFO:MusicBrainzFetcher:Browse releases: 1921c28c-ec61-4725-8e35-38dd656f7923\n",
      "INFO:MusicBrainzFetcher:54 releases @offset 0\n",
      "INFO:MusicBrainzFetcher:54 total releases\n",
      "INFO:MusicBrainzFetcher:Created DataFrame with 10 rows\n"
     ]
    }
   ],
   "source": [
    "# 1 - Fetching Songs of an artist:\n",
    "fetcher = MusicBrainzFetcher()\n",
    "df = fetcher.fetch_artist_tracks_df(\"I prevail\", limit=10)\n"
   ]
  },
  {
   "cell_type": "code",
   "execution_count": 8,
   "metadata": {},
   "outputs": [
    {
     "data": {
      "text/html": [
       "<div>\n",
       "<style scoped>\n",
       "    .dataframe tbody tr th:only-of-type {\n",
       "        vertical-align: middle;\n",
       "    }\n",
       "\n",
       "    .dataframe tbody tr th {\n",
       "        vertical-align: top;\n",
       "    }\n",
       "\n",
       "    .dataframe thead th {\n",
       "        text-align: right;\n",
       "    }\n",
       "</style>\n",
       "<table border=\"1\" class=\"dataframe\">\n",
       "  <thead>\n",
       "    <tr style=\"text-align: right;\">\n",
       "      <th></th>\n",
       "      <th>track_title</th>\n",
       "      <th>recording_id</th>\n",
       "      <th>release_id</th>\n",
       "      <th>release_date</th>\n",
       "    </tr>\n",
       "  </thead>\n",
       "  <tbody>\n",
       "    <tr>\n",
       "      <th>0</th>\n",
       "      <td>Rain</td>\n",
       "      <td>748528d8-27ed-45d3-ae0b-f0927a472d68</td>\n",
       "      <td>64965c8d-f293-4fb0-92bc-445ca8af0540</td>\n",
       "      <td>2025-07-18</td>\n",
       "    </tr>\n",
       "    <tr>\n",
       "      <th>1</th>\n",
       "      <td>Into Hell</td>\n",
       "      <td>f8e1f54a-0f7b-427f-9283-fb9ed570bee1</td>\n",
       "      <td>21fb13d9-19b3-4dbe-a3ac-104c29638ea7</td>\n",
       "      <td>2025-06-20</td>\n",
       "    </tr>\n",
       "    <tr>\n",
       "      <th>2</th>\n",
       "      <td>Violent Nature</td>\n",
       "      <td>66333f8c-54c2-4fab-81cf-aee94a727c02</td>\n",
       "      <td>179bd024-a729-4c68-8204-4a56a2c20e00</td>\n",
       "      <td>2025-05-23</td>\n",
       "    </tr>\n",
       "    <tr>\n",
       "      <th>3</th>\n",
       "      <td>Hate This Song</td>\n",
       "      <td>54b77e09-e11d-430a-991e-b0d210fba7f8</td>\n",
       "      <td>735d1bd4-b957-4e68-8762-8edc688a627f</td>\n",
       "      <td>2024-08-23</td>\n",
       "    </tr>\n",
       "    <tr>\n",
       "      <th>4</th>\n",
       "      <td>Bad Things (Stripped)</td>\n",
       "      <td>0223ae01-8c03-43e3-a2d6-c3d0f2583825</td>\n",
       "      <td>735d1bd4-b957-4e68-8762-8edc688a627f</td>\n",
       "      <td>2024-08-23</td>\n",
       "    </tr>\n",
       "    <tr>\n",
       "      <th>5</th>\n",
       "      <td>There’s Fear in Letting Go (Stripped)</td>\n",
       "      <td>8b25da84-649b-4cff-84ec-c9475a184852</td>\n",
       "      <td>735d1bd4-b957-4e68-8762-8edc688a627f</td>\n",
       "      <td>2024-08-23</td>\n",
       "    </tr>\n",
       "    <tr>\n",
       "      <th>6</th>\n",
       "      <td>can u see me in the dark?</td>\n",
       "      <td>08687319-3f0e-40c0-b468-b38eb16de2c9</td>\n",
       "      <td>e5a354da-c9ef-4981-a6a5-776f16aff600</td>\n",
       "      <td>2024-06-06</td>\n",
       "    </tr>\n",
       "    <tr>\n",
       "      <th>7</th>\n",
       "      <td>Deep End (live from London / 2023)</td>\n",
       "      <td>c5593665-3ff3-4926-b89f-45f938c296fa</td>\n",
       "      <td>a8d27a82-ce28-442d-a390-49cdddb7558d</td>\n",
       "      <td>2023-05-26</td>\n",
       "    </tr>\n",
       "    <tr>\n",
       "      <th>8</th>\n",
       "      <td>Deep End (Stripped)</td>\n",
       "      <td>2bf6f614-0b11-4d67-bca6-c5bf7eeb60ab</td>\n",
       "      <td>a8d27a82-ce28-442d-a390-49cdddb7558d</td>\n",
       "      <td>2023-05-26</td>\n",
       "    </tr>\n",
       "    <tr>\n",
       "      <th>9</th>\n",
       "      <td>Choke</td>\n",
       "      <td>0843f10a-2c71-4fd1-a610-aadbd0692e23</td>\n",
       "      <td>1c4213c1-8749-478a-883a-47dc631c1451</td>\n",
       "      <td>2022-08-19</td>\n",
       "    </tr>\n",
       "  </tbody>\n",
       "</table>\n",
       "</div>"
      ],
      "text/plain": [
       "                             track_title  \\\n",
       "0                                   Rain   \n",
       "1                              Into Hell   \n",
       "2                         Violent Nature   \n",
       "3                         Hate This Song   \n",
       "4                  Bad Things (Stripped)   \n",
       "5  There’s Fear in Letting Go (Stripped)   \n",
       "6              can u see me in the dark?   \n",
       "7     Deep End (live from London / 2023)   \n",
       "8                    Deep End (Stripped)   \n",
       "9                                  Choke   \n",
       "\n",
       "                           recording_id                            release_id  \\\n",
       "0  748528d8-27ed-45d3-ae0b-f0927a472d68  64965c8d-f293-4fb0-92bc-445ca8af0540   \n",
       "1  f8e1f54a-0f7b-427f-9283-fb9ed570bee1  21fb13d9-19b3-4dbe-a3ac-104c29638ea7   \n",
       "2  66333f8c-54c2-4fab-81cf-aee94a727c02  179bd024-a729-4c68-8204-4a56a2c20e00   \n",
       "3  54b77e09-e11d-430a-991e-b0d210fba7f8  735d1bd4-b957-4e68-8762-8edc688a627f   \n",
       "4  0223ae01-8c03-43e3-a2d6-c3d0f2583825  735d1bd4-b957-4e68-8762-8edc688a627f   \n",
       "5  8b25da84-649b-4cff-84ec-c9475a184852  735d1bd4-b957-4e68-8762-8edc688a627f   \n",
       "6  08687319-3f0e-40c0-b468-b38eb16de2c9  e5a354da-c9ef-4981-a6a5-776f16aff600   \n",
       "7  c5593665-3ff3-4926-b89f-45f938c296fa  a8d27a82-ce28-442d-a390-49cdddb7558d   \n",
       "8  2bf6f614-0b11-4d67-bca6-c5bf7eeb60ab  a8d27a82-ce28-442d-a390-49cdddb7558d   \n",
       "9  0843f10a-2c71-4fd1-a610-aadbd0692e23  1c4213c1-8749-478a-883a-47dc631c1451   \n",
       "\n",
       "  release_date  \n",
       "0   2025-07-18  \n",
       "1   2025-06-20  \n",
       "2   2025-05-23  \n",
       "3   2024-08-23  \n",
       "4   2024-08-23  \n",
       "5   2024-08-23  \n",
       "6   2024-06-06  \n",
       "7   2023-05-26  \n",
       "8   2023-05-26  \n",
       "9   2022-08-19  "
      ]
     },
     "execution_count": 8,
     "metadata": {},
     "output_type": "execute_result"
    }
   ],
   "source": [
    "df"
   ]
  },
  {
   "cell_type": "code",
   "execution_count": 5,
   "metadata": {},
   "outputs": [
    {
     "name": "stdout",
     "output_type": "stream",
     "text": [
      "['Selena Gomez', 'Ariana Grande']\n",
      "['Selena Gomez']\n",
      "['Selena Gomez', 'Ariana Grande', 'Queen', 'Nirvana']\n"
     ]
    }
   ],
   "source": [
    "# 2 - ArtistConfig()\n",
    "from fetcher.artist_config import ArtistConfig\n",
    "cfg = ArtistConfig()\n",
    "print(cfg.get_artists(\"pop\"))              # ['Selena Gomez', 'Ariana Grande']\n",
    "print(cfg.get_artists(\"Selena Gomez\"))     # ['Selena Gomez']\n",
    "print(cfg.get_artists())                   # All artists from all classes"
   ]
  },
  {
   "cell_type": "code",
   "execution_count": 10,
   "metadata": {},
   "outputs": [
    {
     "name": "stderr",
     "output_type": "stream",
     "text": [
      "INFO:ArtistSongManager:Fetching songs for: ['Selena Gomez', 'Ariana Grande']\n",
      "INFO:MusicBrainzFetcher:Starting fetch for artist: Selena Gomez\n",
      "INFO:MusicBrainzFetcher:Starting fetch for artist: Selena Gomez\n",
      "INFO:MusicBrainzFetcher:Searching artist: Selena Gomez\n",
      "INFO:MusicBrainzFetcher:Searching artist: Selena Gomez\n",
      "INFO:MusicBrainzFetcher:MBID: e4bc69e2-a064-4f93-ada1-f7f209cc1cc3\n",
      "INFO:MusicBrainzFetcher:MBID: e4bc69e2-a064-4f93-ada1-f7f209cc1cc3\n",
      "INFO:MusicBrainzFetcher:Browse releases: e4bc69e2-a064-4f93-ada1-f7f209cc1cc3\n",
      "INFO:MusicBrainzFetcher:Browse releases: e4bc69e2-a064-4f93-ada1-f7f209cc1cc3\n",
      "INFO:MusicBrainzFetcher:60 releases @offset 0\n",
      "INFO:MusicBrainzFetcher:60 releases @offset 0\n",
      "INFO:MusicBrainzFetcher:60 total releases\n",
      "INFO:MusicBrainzFetcher:60 total releases\n",
      "INFO:MusicBrainzFetcher:Created DataFrame with 10 rows\n",
      "INFO:MusicBrainzFetcher:Created DataFrame with 10 rows\n",
      "INFO:MusicBrainzFetcher:Starting fetch for artist: Ariana Grande\n",
      "INFO:MusicBrainzFetcher:Starting fetch for artist: Ariana Grande\n",
      "INFO:MusicBrainzFetcher:Searching artist: Ariana Grande\n",
      "INFO:MusicBrainzFetcher:Searching artist: Ariana Grande\n",
      "INFO:MusicBrainzFetcher:MBID: f4fdbb4c-e4b7-47a0-b83b-d91bbfcfa387\n",
      "INFO:MusicBrainzFetcher:MBID: f4fdbb4c-e4b7-47a0-b83b-d91bbfcfa387\n",
      "INFO:MusicBrainzFetcher:Browse releases: f4fdbb4c-e4b7-47a0-b83b-d91bbfcfa387\n",
      "INFO:MusicBrainzFetcher:Browse releases: f4fdbb4c-e4b7-47a0-b83b-d91bbfcfa387\n",
      "INFO:MusicBrainzFetcher:65 releases @offset 0\n",
      "INFO:MusicBrainzFetcher:65 releases @offset 0\n",
      "INFO:MusicBrainzFetcher:65 total releases\n",
      "INFO:MusicBrainzFetcher:65 total releases\n",
      "INFO:MusicBrainzFetcher:Created DataFrame with 10 rows\n",
      "INFO:MusicBrainzFetcher:Created DataFrame with 10 rows\n",
      "INFO:ArtistSongManager:Fetched total 20 tracks for 2 artist(s)\n"
     ]
    }
   ],
   "source": [
    "# 3 - ArtistSongManager()\n",
    "from fetcher.artist_song_manager import ArtistSongManager\n",
    "\n",
    "manager = ArtistSongManager()\n",
    "df = manager.fetch_all_songs(\"pop\", limit_per_artist=10)"
   ]
  }
 ],
 "metadata": {
  "kernelspec": {
   "display_name": "Python 3",
   "language": "python",
   "name": "python3"
  },
  "language_info": {
   "codemirror_mode": {
    "name": "ipython",
    "version": 3
   },
   "file_extension": ".py",
   "mimetype": "text/x-python",
   "name": "python",
   "nbconvert_exporter": "python",
   "pygments_lexer": "ipython3",
   "version": "3.12.2"
  },
  "orig_nbformat": 4
 },
 "nbformat": 4,
 "nbformat_minor": 2
}
